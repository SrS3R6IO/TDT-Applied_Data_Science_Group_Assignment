{
  "nbformat": 4,
  "nbformat_minor": 0,
  "metadata": {
    "colab": {
      "provenance": []
    },
    "kernelspec": {
      "name": "python3",
      "display_name": "Python 3"
    },
    "language_info": {
      "name": "python"
    }
  },
  "cells": [
    {
      "cell_type": "markdown",
      "source": [
        "## **Preprocessing**"
      ],
      "metadata": {
        "id": "7KsCBRe2x7u0"
      }
    },
    {
      "cell_type": "code",
      "execution_count": null,
      "metadata": {
        "id": "ZGV6BjZbzOxD"
      },
      "outputs": [],
      "source": [
        "from sklearn.ensemble import RandomForestRegressor\n",
        "from sklearn.metrics import mean_squared_error\n",
        "from sklearn.model_selection import train_test_split\n",
        "from math import sqrt\n",
        "import pandas as pd\n",
        "from sklearn.model_selection import GroupKFold\n",
        "from sklearn.neighbors import KNeighborsRegressor\n",
        "from sklearn.svm import SVR\n",
        "import numpy as np\n",
        "from sklearn.ensemble import GradientBoostingRegressor\n",
        "from sklearn.linear_model import LinearRegression, Ridge, Lasso\n",
        "from sklearn.neural_network import MLPRegressor\n",
        "from xgboost import XGBRegressor\n",
        "from sklearn.model_selection import GridSearchCV\n",
        "#Preprocessing the dataset into the wanted one\n",
        "df = pd.read_csv(\"combined_dataset.csv\")\n",
        "aggregated_data = df.groupby('Source').agg({\n",
        "    'CognitiveLoad': ['mean', 'std', 'min', 'max'],\n",
        "    'Attention': ['mean', 'std', 'min', 'max'],\n",
        "    'Boredom': ['mean', 'std', 'min', 'max'],\n",
        "    'Frustration': ['mean', 'std', 'min', 'max'],\n",
        "    'Confusion': ['mean', 'std', 'min', 'max'],\n",
        "    'Stress': ['mean', 'std', 'min', 'max'],\n",
        "    'Engagement': ['mean', 'std', 'min', 'max'],\n",
        "    'Performance': ['mean']\n",
        "}).reset_index()\n",
        "aggregated_data.columns = ['_'.join(col).strip() for col in aggregated_data.columns.values]\n",
        "students = aggregated_data['Source_'].unique()\n",
        "#Take 20 out of 80 students for the testing\n",
        "train_students, test_students = train_test_split(students, test_size=20, random_state=42)\n",
        "train_data = aggregated_data[aggregated_data['Source_'].isin(train_students)]\n",
        "test_data = aggregated_data[aggregated_data['Source_'].isin(test_students)]\n",
        "\n",
        "X_train, y_train = train_data.drop(columns=['Performance_mean']), train_data['Performance_mean']\n",
        "X_test, y_test = test_data.drop(columns=['Performance_mean']), test_data['Performance_mean']\n",
        "X_train_no_source = X_train.drop(columns=[\"Source_\"])\n",
        "X_test_no_source = X_test.drop(columns=[\"Source_\"])"
      ]
    },
    {
      "cell_type": "markdown",
      "source": [
        "### **Inner evaluation**"
      ],
      "metadata": {
        "id": "O_5AAX2zyD9c"
      }
    },
    {
      "cell_type": "code",
      "source": [
        "#All models to test\n",
        "models = [\n",
        "    KNeighborsRegressor(),\n",
        "    SVR(),\n",
        "    RandomForestRegressor(),\n",
        "    LinearRegression(),\n",
        "    Ridge(),\n",
        "    Lasso(),\n",
        "    GradientBoostingRegressor(),\n",
        "    MLPRegressor(),\n",
        "    XGBRegressor()\n",
        "]\n",
        "#Parameter optimization for each model\n",
        "param_grid = {\n",
        "    'KNeighborsRegressor': {\n",
        "        'n_neighbors': [3, 5, 7, 9],\n",
        "        'weights': ['uniform', 'distance'],\n",
        "        'algorithm': ['auto', 'ball_tree', 'kd_tree', 'brute'],\n",
        "    },\n",
        "    'SVR': {\n",
        "        'kernel': ['linear', 'poly', 'rbf'],\n",
        "        'C': [0.1, 1, 10, 100],\n",
        "        'gamma': ['scale', 'auto']\n",
        "    },\n",
        "    'RandomForestRegressor': {\n",
        "        'n_estimators': [50, 100, 200],\n",
        "        'max_depth': [None, 10, 20, 30],\n",
        "        'min_samples_split': [2, 5, 10]\n",
        "    },\n",
        "    'LinearRegression': {\n",
        "    },\n",
        "    'Ridge': {\n",
        "        'alpha': [0.1, 1, 10, 100],\n",
        "        'solver': ['auto', 'svd', 'cholesky', 'lsqr', 'saga'],\n",
        "    },\n",
        "    'Lasso': {\n",
        "        'alpha': [0.1, 1, 10, 100],\n",
        "        'max_iter': [1000, 5000, 10000],\n",
        "    },\n",
        "    'GradientBoostingRegressor': {\n",
        "        'n_estimators': [100, 200, 300],\n",
        "        'learning_rate': [0.01, 0.1, 0.2],\n",
        "        'max_depth': [3, 5, 7],\n",
        "        'subsample': [0.8, 1.0],\n",
        "    },\n",
        "    'MLPRegressor': {\n",
        "        'hidden_layer_sizes': [(50,), (100,), (50, 50)],\n",
        "        'activation': ['relu', 'tanh', 'logistic'],\n",
        "        'solver': ['adam', 'lbfgs'],\n",
        "        'max_iter': [1000, 2000],\n",
        "    },\n",
        "    'XGBRegressor': {\n",
        "        'n_estimators': [100, 200, 300],\n",
        "        'learning_rate': [0.01, 0.1, 0.2],\n",
        "        'max_depth': [3, 5, 7],\n",
        "        'subsample': [0.8, 1.0],\n",
        "        'colsample_bytree': [0.8, 1.0],\n",
        "        'gamma': [0, 0.1, 0.2]\n",
        "    }\n",
        "}\n",
        "#For the cv part of the grid search\n",
        "cv = GroupKFold(n_splits=5)\n",
        "results = []\n",
        "parameters = []\n",
        "#Optimization for each model\n",
        "for model in models:\n",
        "    model_name = model.__class__.__name__\n",
        "    param_grid_for_model = param_grid[model_name] if model_name in param_grid else {}\n",
        "    grid_search = GridSearchCV(model, param_grid_for_model, cv=cv, scoring='neg_mean_squared_error', n_jobs=-1)\n",
        "    grid_search.fit(X_train_no_source, y_train, groups=X_train[\"Source_\"])\n",
        "    best_rmse = sqrt(-grid_search.best_score_)\n",
        "    best_params = grid_search.best_params_\n",
        "\n",
        "    print(model_name)\n",
        "    print(best_params)\n",
        "    print(\"-\" * 40)\n",
        "\n",
        "    #Storage of the results\n",
        "    results.append({\n",
        "        'Model': model_name,\n",
        "        'Best RMSE': best_rmse\n",
        "    })\n",
        "\n",
        "results_df = pd.DataFrame(results)\n",
        "print(results_df)"
      ],
      "metadata": {
        "colab": {
          "base_uri": "https://localhost:8080/"
        },
        "id": "hFpsVA1DyQKR",
        "outputId": "5d2aa216-a18e-4797-94af-e5892f0ca0a2"
      },
      "execution_count": null,
      "outputs": [
        {
          "output_type": "stream",
          "name": "stdout",
          "text": [
            "KNeighborsRegressor\n",
            "{'algorithm': 'auto', 'n_neighbors': 3, 'weights': 'uniform'}\n",
            "----------------------------------------\n",
            "SVR\n",
            "{'C': 100, 'gamma': 'scale', 'kernel': 'poly'}\n",
            "----------------------------------------\n",
            "RandomForestRegressor\n",
            "{'max_depth': None, 'min_samples_split': 2, 'n_estimators': 50}\n",
            "----------------------------------------\n",
            "LinearRegression\n",
            "{}\n",
            "----------------------------------------\n",
            "Ridge\n",
            "{'alpha': 0.1, 'solver': 'lsqr'}\n",
            "----------------------------------------\n",
            "Lasso\n",
            "{'alpha': 0.1, 'max_iter': 1000}\n",
            "----------------------------------------\n",
            "GradientBoostingRegressor\n",
            "{'learning_rate': 0.1, 'max_depth': 5, 'n_estimators': 200, 'subsample': 0.8}\n",
            "----------------------------------------\n",
            "MLPRegressor\n",
            "{'activation': 'tanh', 'hidden_layer_sizes': (50, 50), 'max_iter': 2000, 'solver': 'lbfgs'}\n",
            "----------------------------------------\n",
            "XGBRegressor\n",
            "{'colsample_bytree': 0.8, 'gamma': 0, 'learning_rate': 0.1, 'max_depth': 7, 'n_estimators': 300, 'subsample': 0.8}\n",
            "----------------------------------------\n",
            "                       Model  Best RMSE\n",
            "0        KNeighborsRegressor  -0.000000\n",
            "1                        SVR   0.081954\n",
            "2      RandomForestRegressor   0.055976\n",
            "3           LinearRegression   0.062428\n",
            "4                      Ridge   0.208312\n",
            "5                      Lasso   0.968534\n",
            "6  GradientBoostingRegressor   0.052330\n",
            "7               MLPRegressor   0.019714\n",
            "8               XGBRegressor   0.317905\n"
          ]
        }
      ]
    },
    {
      "cell_type": "markdown",
      "source": [
        "## **Outter evaluation**"
      ],
      "metadata": {
        "id": "F3c7rcz4yRGy"
      }
    },
    {
      "cell_type": "code",
      "source": [
        "mlp_model = MLPRegressor(\n",
        "    activation='tanh',\n",
        "    hidden_layer_sizes=(50, 50),\n",
        "    max_iter=2000,\n",
        "    solver='lbfgs',\n",
        ")\n",
        "mlp_model.fit(X_train_no_source, y_train)\n",
        "X_test_no_source = X_test.drop(columns=[\"Source_\"])\n",
        "y_pred = mlp_model.predict(X_test_no_source)\n",
        "\n",
        "test_rmse = sqrt(mean_squared_error(y_test, y_pred))\n",
        "print(f\"Test RMSE MLP: {test_rmse}\")"
      ],
      "metadata": {
        "colab": {
          "base_uri": "https://localhost:8080/"
        },
        "id": "Jl5YwnSGUySO",
        "outputId": "8fb3795e-429f-4ebe-cc91-066e2e072a84"
      },
      "execution_count": null,
      "outputs": [
        {
          "output_type": "stream",
          "name": "stdout",
          "text": [
            "Test RMSE MLP: 0.03250053787269609\n"
          ]
        }
      ]
    },
    {
      "cell_type": "code",
      "source": [
        "knn_model = KNeighborsRegressor(\n",
        "    algorithm='auto',\n",
        "    n_neighbors=3,\n",
        "    weights='uniform'\n",
        ")\n",
        "knn_model.fit(X_train_no_source, y_train)\n",
        "\n",
        "y_pred = knn_model.predict(X_test_no_source)\n",
        "\n",
        "test_rmse = sqrt(mean_squared_error(y_test, y_pred))\n",
        "print(f\"Test RMSE KNN: {test_rmse}\")\n"
      ],
      "metadata": {
        "colab": {
          "base_uri": "https://localhost:8080/"
        },
        "id": "mMP3uUR8V3OS",
        "outputId": "0f95d085-a0cc-4c1f-9119-5311d5e37d23"
      },
      "execution_count": null,
      "outputs": [
        {
          "output_type": "stream",
          "name": "stdout",
          "text": [
            "Test RMSE KNN: 0.0\n"
          ]
        }
      ]
    },
    {
      "cell_type": "markdown",
      "source": [
        "## **Final model**"
      ],
      "metadata": {
        "id": "Z8gStJ5zUtee"
      }
    },
    {
      "cell_type": "code",
      "source": [
        "import joblib\n",
        "mlp_model = MLPRegressor(\n",
        "    activation='tanh',\n",
        "    hidden_layer_sizes=(50, 50),\n",
        "    max_iter=2000,\n",
        "    solver='lbfgs',\n",
        ")\n",
        "X = pd.concat([X_train_no_source, X_test_no_source])\n",
        "Y = pd.concat([y_train, y_test])\n",
        "mlp_model.fit(X, Y)\n",
        "\n",
        "\n",
        "\n",
        "model_filename = \"mlp_model.joblib\"\n",
        "joblib.dump(mlp_model, model_filename)\n",
        "print(f\"Model saved as {model_filename}\")\n",
        "loaded_model = joblib.load(model_filename)"
      ],
      "metadata": {
        "colab": {
          "base_uri": "https://localhost:8080/"
        },
        "id": "bSlPQ_KuU2ki",
        "outputId": "99bd896c-7b68-4f00-93c2-bf3fdf467bf8"
      },
      "execution_count": null,
      "outputs": [
        {
          "output_type": "stream",
          "name": "stdout",
          "text": [
            "Model saved as mlp_model.joblib\n"
          ]
        }
      ]
    }
  ]
}